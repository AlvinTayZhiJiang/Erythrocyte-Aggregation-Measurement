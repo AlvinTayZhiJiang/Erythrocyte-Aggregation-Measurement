{
 "cells": [
  {
   "cell_type": "code",
   "execution_count": null,
   "metadata": {},
   "outputs": [],
   "source": [
    "#Counting RBC\n",
    "# - Created by: Alvin Tay\n",
    "# - Created on: 12/09/19"
   ]
  },
  {
   "cell_type": "code",
   "execution_count": null,
   "metadata": {},
   "outputs": [],
   "source": [
    "#Install opencv\n",
    "#Install mahotas"
   ]
  },
  {
   "cell_type": "code",
   "execution_count": 2,
   "metadata": {},
   "outputs": [],
   "source": [
    "#Libraries\n",
    "from pylab import imshow, show\n",
    "import numpy as np\n",
    "import mahotas as mh\n",
    "import cv2"
   ]
  },
  {
   "cell_type": "code",
   "execution_count": 4,
   "metadata": {},
   "outputs": [
    {
     "data": {
      "image/png": "[encoded data removed]",
      "text/plain": [
       "<Figure size 432x288 with 1 Axes>"
      ]
     },
     "metadata": {
      "needs_background": "light"
     },
     "output_type": "display_data"
    },
    {
     "name": "stdout",
     "output_type": "stream",
     "text": [
      "Found 511 RBC.\n"
     ]
    }
   ],
   "source": [
    "#Reading original and count total no. of cells\n",
    "\n",
    "#Method 1 - Gaussian Filter\n",
    "#Ref: https://buildmedia.readthedocs.org/media/pdf/mahotas/stable/mahotas.pdf\n",
    "\n",
    "#Read and display image\n",
    "t_mh = mh.imread('A_40X_1.jpg')\n",
    "\n",
    "#Filter image\n",
    "t_mh = t_mh[:,:,0]            \n",
    "t_mh = mh.gaussian_filter(t_mh, 1.5)  #Gaussian filter - blur edges and reduce noise\n",
    "\n",
    "#Set threshold\n",
    "t_mh = (t_mh > t_mh.mean())           #If pixel value > threshold, assign a value       \n",
    "imshow(t_mh)\n",
    "show()\n",
    "\n",
    "#Label and Count\n",
    "labeled, t_totalcells = mh.label(t_mh)\n",
    "print('Found {} RBC.'.format(t_totalcells))\n",
    "\n",
    "#"
   ]
  },
  {
   "cell_type": "code",
   "execution_count": 7,
   "metadata": {},
   "outputs": [
    {
     "name": "stdout",
     "output_type": "stream",
     "text": [
      "757\n"
     ]
    }
   ],
   "source": [
    "#Reading original and count total no of cells\n",
    "\n",
    "#Method 2 - Finding and Counting Circles\n",
    "#Ref: https://opencv-python-tutroals.readthedocs.io/en/latest/py_tutorials/py_imgproc/py_houghcircles/py_houghcircles.html\n",
    "\n",
    "#Read image\n",
    "t_cv2 = cv2.imread('A_40X_1.jpg', 0)                          #Reading image in greyscale mode\n",
    "orig = cv2.imread('A_40X_1.jpg')                              #Reading image in colour mode\n",
    "\n",
    "#Filter image\n",
    "t_cv2 = cv2.medianBlur(t_cv2,5)                  #medianBlur - reduce noises\n",
    "img = cv2.cvtColor(t_cv2,cv2.COLOR_GRAY2BGR)\n",
    "\n",
    "#\n",
    "\n",
    "#Set circle parameters\n",
    "circles = cv2.HoughCircles(t_cv2,cv2.HOUGH_GRADIENT,1,15,\n",
    "                            param1=200,param2=10,minRadius=0,maxRadius=15)\n",
    "\n",
    "#Draw circles\n",
    "circles = np.uint16(np.around(circles))\n",
    "for i in circles[0,:]:\n",
    "    cv2.circle(img,(i[0],i[1]),i[2],(0,255,0),2) # draw the outer circle\n",
    "    cv2.circle(img,(i[0],i[1]),2,(0,0,255),3)    # draw the center of the circle\n",
    "\n",
    "#Show circled image\n",
    "cv2.imshow('Detected circles',img)\n",
    "cv2.waitKey(0)\n",
    "cv2.destroyAllWindows()\n",
    "#cv2.imwrite('1_Total_A_40X_1.png', img)\n",
    "\n",
    "#Count circles\n",
    "cv2_totalcells = circles.shape[1]\n",
    "print(cv2_totalcells) \n",
    "\n",
    "#"
   ]
  },
  {
   "cell_type": "code",
   "execution_count": null,
   "metadata": {},
   "outputs": [],
   "source": [
    "#Using method 2 due to lower percentage error and clearer visulisation of counting"
   ]
  },
  {
   "cell_type": "code",
   "execution_count": 9,
   "metadata": {},
   "outputs": [],
   "source": [
    "#Labelling irregular shapes, ie. aggreagated RBC\n",
    "#Ref: https://xbuba.com/questions/46036172\n",
    "\n",
    "#Filter image\n",
    "blur = cv2.medianBlur(orig,9)\n",
    "h, w = orig.shape[:2]\n",
    "\n",
    "#\n",
    "\n",
    "#Morphological gradient - outlining the object\n",
    "kernel = cv2.getStructuringElement(cv2.MORPH_ELLIPSE, (5, 5))\n",
    "gradient = cv2.morphologyEx(blur, cv2.MORPH_GRADIENT, kernel)\n",
    "\n",
    "#Binarize gradient\n",
    "lowerb = np.array([0, 0, 0])\n",
    "upperb = np.array([40, 40, 40])\n",
    "binary = cv2.inRange(gradient, lowerb, upperb)\n",
    "\n",
    "#Flood fill (black) from the edges to remove edge cells\n",
    "for row in range(h):\n",
    "    if binary[row, 0] == 255:\n",
    "        cv2.floodFill(binary, None, (0, row), 0)\n",
    "    if binary[row, w-1] == 255:\n",
    "        cv2.floodFill(binary, None, (w-1, row), 0)\n",
    "\n",
    "for col in range(w):\n",
    "    if binary[0, col] == 255:                                   \n",
    "        cv2.floodFill(binary, None, (col, 0), 0)\n",
    "    if binary[h-1, col] == 255:\n",
    "        cv2.floodFill(binary, None, (col, h-1), 0)\n",
    "\n",
    "#Cleaning up mask\n",
    "foreground = cv2.morphologyEx(binary, cv2.MORPH_OPEN, kernel)\n",
    "foreground = cv2.morphologyEx(foreground, cv2.MORPH_CLOSE, kernel)\n",
    "\n",
    "#Create background and unknown mask for labelling\n",
    "kernel = cv2.getStructuringElement(cv2.MORPH_ELLIPSE, (17, 17))\n",
    "background = cv2.dilate(foreground, kernel, iterations=3)\n",
    "unknown = cv2.subtract(background, foreground)\n",
    "\n",
    "#Watershed markers\n",
    "markers = cv2.connectedComponents(foreground)[1]\n",
    "markers += 1                                     #Add one to all labels so that background is 1, not 0\n",
    "markers[unknown==255] = 0                        #Mark the region of unknown with zero\n",
    "markers = cv2.watershed(orig, markers)\n",
    "\n",
    "#Assign the watershed markers a red colour\n",
    "hue_markers = np.uint8(1*np.float32(markers)/np.max(markers))\n",
    "blank_channel = 255*np.ones((h, w), dtype=np.uint8)\n",
    "marker_img = cv2.merge([hue_markers, blank_channel, blank_channel])\n",
    "marker_img = cv2.cvtColor(marker_img, cv2.COLOR_HSV2BGR)\n",
    "\n",
    "#Label the original image with the red watershed markers\n",
    "labeled_img = orig.copy()\n",
    "labeled_img[markers>1] = marker_img[markers>1]  #1 is background color\n",
    "labeled_img = cv2.addWeighted(orig, 0.5, labeled_img, 0.5, 0)\n",
    "cv2.imshow('Marked aggregated RBC.png', labeled_img)\n",
    "cv2.waitKey()\n",
    "cv2.destroyAllWindows()\n",
    "\n",
    "#"
   ]
  },
  {
   "cell_type": "code",
   "execution_count": 10,
   "metadata": {},
   "outputs": [
    {
     "data": {
      "text/plain": [
       "True"
      ]
     },
     "execution_count": 10,
     "metadata": {},
     "output_type": "execute_result"
    }
   ],
   "source": [
    "#Isolating irregular shapes, ie. aggregated RBC\n",
    "#Ref: https://piratefsh.github.io/image-processing-101/\n",
    "\n",
    "#Filter image\n",
    "orig_hsv = cv2.cvtColor(labeled_img, cv2.COLOR_BGR2HSV)\n",
    "\n",
    "#\n",
    "\n",
    "#Isolate irregular shapes using red watershed markers \n",
    "lower_red = np.array([0,100,100])\n",
    "upper_red = np.array([20,255,255])\n",
    "mask_inverse = cv2.inRange(orig_hsv, lower_red, upper_red)\n",
    "mask = cv2.bitwise_not(mask_inverse)  #Inverting the contrast of the image\n",
    "\n",
    "#Convert single channel mask back into 3 channels\n",
    "mask_rgb = cv2.cvtColor(mask_inverse, cv2.COLOR_GRAY2RGB)\n",
    "\n",
    "#Perform bitwise and on mask to obtain cut-out image that is not black\n",
    "masked_orig = cv2.bitwise_and(orig, mask_rgb)\n",
    "\n",
    "#Replace the cut-out parts with white\n",
    "masked_replace_white = cv2.addWeighted(masked_orig, 1, \\\n",
    "                                       cv2.cvtColor(mask, cv2.COLOR_GRAY2RGB), 1, 0)\n",
    "\n",
    "#Display isolated irregular shapes, ie. aggregated RBC\n",
    "isolate = cv2.cvtColor(masked_replace_white, cv2.COLOR_BGR2RGB)\n",
    "cv2.imshow('Aggregated RBC', isolate)\n",
    "cv2.waitKey()\n",
    "cv2.destroyAllWindows()\n",
    "cv2.imwrite('2_Aggregated_RBC_A_40X_1.png', isolate)\n",
    "\n",
    "#"
   ]
  },
  {
   "cell_type": "code",
   "execution_count": 8,
   "metadata": {},
   "outputs": [
    {
     "name": "stdout",
     "output_type": "stream",
     "text": [
      "69\n"
     ]
    }
   ],
   "source": [
    "#Finding and Counting Circles in aggregated cells\n",
    "# - mulitple circles were found in aggregated cells\n",
    "# - count the number of RBC involved in aggregation\n",
    "#Ref: https://opencv-python-tutroals.readthedocs.io/en/latest/py_tutorials/py_imgproc/py_houghcircles/py_houghcircles.html\n",
    "\n",
    "#Filter image\n",
    "labeled_img = cv2.medianBlur(isolate,5)\n",
    "img_g = cv2.cvtColor(labeled_img,cv2.COLOR_RGB2GRAY)\n",
    "\n",
    "#\n",
    "\n",
    "#Set circle parameters\n",
    "circles = cv2.HoughCircles(img_g,cv2.HOUGH_GRADIENT,1,15,\n",
    "                            param1=200,param2=10,minRadius=0,maxRadius=15)\n",
    "\n",
    "#Draw circles\n",
    "circles = np.uint16(np.around(circles))\n",
    "for i in circles[0,:]:\n",
    "    # draw the outer circle\n",
    "    cv2.circle(img_g,(i[0],i[1]),i[2],(0,255,0),2)\n",
    "    # draw the center of the circle\n",
    "    cv2.circle(img_g,(i[0],i[1]),2,(0,0,255),3)\n",
    "\n",
    "#Show circled image\n",
    "cv2.imshow('Detected circles in aggregated cells',img_g)\n",
    "cv2.waitKey(0)\n",
    "cv2.destroyAllWindows()\n",
    "\n",
    "#Count circles\n",
    "cv2_clump = circles.shape[1]                                  \n",
    "print(cv2_clump) \n",
    "\n",
    "#"
   ]
  },
  {
   "cell_type": "code",
   "execution_count": 80,
   "metadata": {},
   "outputs": [
    {
     "name": "stdout",
     "output_type": "stream",
     "text": [
      "Percentage of RBC involved in clumping: 50.56 %\n"
     ]
    }
   ],
   "source": [
    "#Percentage of RBC involved in clumping\n",
    "#Assuming all cells in the image are RBC\n",
    "#\n",
    "\n",
    "per_clump = (int(cv2_clump) / int(cv2_totalcells)) * 100\n",
    "print('Percentage of RBC involved in clumping:', round(per_clump,2), '%')\n",
    "\n",
    "#"
   ]
  },
  {
   "cell_type": "code",
   "execution_count": null,
   "metadata": {},
   "outputs": [],
   "source": []
  },
  {
   "cell_type": "code",
   "execution_count": null,
   "metadata": {},
   "outputs": [],
   "source": [
    "#----------------------------------------Optional-----------------------------------------------\n",
    "#Identification of aggregated RBC, echinocytes, foreign particles\n",
    "#Using method 2"
   ]
  },
  {
   "cell_type": "code",
   "execution_count": 9,
   "metadata": {},
   "outputs": [],
   "source": [
    "#Libaries\n",
    "import cv2\n",
    "import numpy as np\n",
    "import mahotas as mh\n",
    "import pylab as plb\n",
    "import matplotlib.pyplot as plt\n",
    "from pylab import imshow, show"
   ]
  },
  {
   "cell_type": "code",
   "execution_count": 21,
   "metadata": {},
   "outputs": [
    {
     "data": {
      "image/png": "[encoded data removed]",
      "text/plain": [
       "<Figure size 432x288 with 1 Axes>"
      ]
     },
     "metadata": {
      "needs_background": "light"
     },
     "output_type": "display_data"
    },
    {
     "name": "stdout",
     "output_type": "stream",
     "text": [
      "Found 126 RBC.\n"
     ]
    }
   ],
   "source": [
    "#x\n",
    "#Counting aggregated RBC as a whole\n",
    "#Counting of colours\n",
    "#Ref: https://buildmedia.readthedocs.org/media/pdf/mahotas/stable/mahotas.pdf\n",
    "\n",
    "#Set threshold\n",
    "aggr = mh.gaussian_filter(foreground, 1)                     #Gaussian filter - blur edges and reduce noise\n",
    "aggr = (aggr > aggr.mean())                                  #If pixel value > threshold, assign a value\n",
    "imshow(aggr)\n",
    "show()\n",
    "\n",
    "#Label and Count\n",
    "labeled, n_aggr = mh.label(aggr)\n",
    "print('Found {} RBC.'.format(n_aggr))"
   ]
  },
  {
   "cell_type": "code",
   "execution_count": 11,
   "metadata": {},
   "outputs": [],
   "source": [
    "#Reading the dotted image\n",
    "# - red dots = echinocytes\n",
    "# - blue dots = foreign particles\n",
    "#https://likegeeks.com/python-image-processing/#Color-Detection\n",
    "\n",
    "#Read and show\n",
    "img_cv = cv2.imread('X1.jpg')\n",
    "c_img = cv2.cvtColor(img_cv, cv2.COLOR_BGR2RGB)\n",
    "cv2.imshow('Dotted image', c_img)\n",
    "cv2.waitKey()\n",
    "cv2.destroyAllWindows()\n",
    "\n",
    "#Filter image\n",
    "hsv_img = cv2.cvtColor(img_cv, cv2.COLOR_BGR2HSV)"
   ]
  },
  {
   "cell_type": "code",
   "execution_count": 12,
   "metadata": {},
   "outputs": [],
   "source": [
    "#Identification of colours - masking\n",
    "# - identify red dots = echinocytes\n",
    "#\n",
    "lower_r = np.array([0,100,100]) \n",
    "upper_r = np.array([20,255,255])\n",
    "masking_red = cv2.inRange(hsv_img, lower_r, upper_r)\n",
    "cv2.imshow(\"Identified Echinocytes\",masking_red)             #White dots = red\n",
    "cv2.waitKey(0)\n",
    "cv2.destroyAllWindows()\n",
    "#"
   ]
  },
  {
   "cell_type": "code",
   "execution_count": 16,
   "metadata": {},
   "outputs": [
    {
     "data": {
      "image/png": "[encoded data removed]",
      "text/plain": [
       "<Figure size 432x288 with 1 Axes>"
      ]
     },
     "metadata": {
      "needs_background": "light"
     },
     "output_type": "display_data"
    },
    {
     "name": "stdout",
     "output_type": "stream",
     "text": [
      "Found 8 echinocytes\n"
     ]
    }
   ],
   "source": [
    "#Counting of colours\n",
    "# - count red  dots = echinocytes\n",
    "#Ref: https://buildmedia.readthedocs.org/media/pdf/mahotas/stable/mahotas.pdf\n",
    "#\n",
    "#Set threshold\n",
    "echin = mh.gaussian_filter(masking_red, 1)                   #Gaussian filter - blur edges and reduce noise\n",
    "echin = (echin> echin.mean())                                #If pixel value > threshold, assign a value\n",
    "imshow(echin)\n",
    "show()\n",
    "\n",
    "#Label and Count\n",
    "labeled, label_echin = mh.label(echin)\n",
    "n_echin = format(label_echin)\n",
    "print('Found', n_echin, 'echinocytes')\n",
    "#"
   ]
  },
  {
   "cell_type": "code",
   "execution_count": 13,
   "metadata": {},
   "outputs": [],
   "source": [
    "#Identification of colours - masking\n",
    "# - identify blue dots = foreign particles\n",
    "\n",
    "lower_b = np.array([101,50,38])\n",
    "upper_b = np.array([110,255,255])\n",
    "masking_blue = cv2.inRange(hsv_img, lower_b, upper_b)\n",
    "cv2.imshow(\"Identify Foreign Particles\",masking_blue)        #white = blue\n",
    "cv2.waitKey(0)\n",
    "cv2.destroyAllWindows()"
   ]
  },
  {
   "cell_type": "code",
   "execution_count": 14,
   "metadata": {
    "scrolled": true
   },
   "outputs": [
    {
     "data": {
      "image/png": "[encoded data removed]",
      "text/plain": [
       "<Figure size 432x288 with 1 Axes>"
      ]
     },
     "metadata": {
      "needs_background": "light"
     },
     "output_type": "display_data"
    },
    {
     "name": "stdout",
     "output_type": "stream",
     "text": [
      "Found 9 foreign particles\n"
     ]
    }
   ],
   "source": [
    "#Counting of colours\n",
    "# - count blue  dots = foreign particles\n",
    "#Ref: https://buildmedia.readthedocs.org/media/pdf/mahotas/stable/mahotas.pdf\n",
    "\n",
    "#Set threshold\n",
    "fp = mh.gaussian_filter(masking_blue, 1)                     #Gaussian filter - blur edges and reduce noise\n",
    "fp = (fp> fp.mean())                                         #If pixel value > threshold, assign a value\n",
    "imshow(fp)\n",
    "show()\n",
    "\n",
    "#Label and Count\n",
    "labeled, label_fp = mh.label(fp)\n",
    "n_fp = format(label_fp)\n",
    "print('Found', n_fp, 'foreign particles')"
   ]
  },
  {
   "cell_type": "code",
   "execution_count": 17,
   "metadata": {},
   "outputs": [
    {
     "name": "stdout",
     "output_type": "stream",
     "text": [
      "Total number of RBC (excluding echinocytes and foreign particles):  176\n"
     ]
    }
   ],
   "source": [
    "#Absolute value for RBC count\n",
    "# = Total no of cells - no. of echinocytes - no. of foreign particles - no. of aggregated RBC\n",
    "\n",
    "RBC = int(cv2_totalcells) - int(n_echin) - int(n_fp) #- int(n_aggr)\n",
    "print('Total number of RBC (excluding echinocytes and foreign particles): ', RBC)"
   ]
  }
 ],
 "metadata": {
  "kernelspec": {
   "display_name": "Python 3",
   "language": "python",
   "name": "python3"
  },
  "language_info": {
   "codemirror_mode": {
    "name": "ipython",
    "version": 3
   },
   "file_extension": ".py",
   "mimetype": "text/x-python",
   "name": "python",
   "nbconvert_exporter": "python",
   "pygments_lexer": "ipython3",
   "version": "3.7.3"
  }
 },
 "nbformat": 4,
 "nbformat_minor": 2
}
